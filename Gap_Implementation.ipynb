{
 "cells": [
  {
   "cell_type": "markdown",
   "metadata": {},
   "source": [
    "# Gap Concept Implementation"
   ]
  },
  {
   "cell_type": "markdown",
   "metadata": {},
   "source": [
    "## Superpose "
   ]
  },
  {
   "cell_type": "code",
   "execution_count": 1,
   "metadata": {},
   "outputs": [],
   "source": [
    "def superpose(string1, string2, voc1, voc2):\n",
    "    if len(string1) == len(string2) == 0:\n",
    "        return [string1]\n",
    "    else:\n",
    "        temp = []\n",
    "        if len(string1) > 0:\n",
    "            h1 = string1[0]\n",
    "            t1 = string1[1:]\n",
    "            h1v2 = h1.intersection(voc2)\n",
    "            if len(h1v2) == 0:\n",
    "                for res in superpose(t1,string2,voc1,voc2):\n",
    "                    temp.append([h1] + res)                  \n",
    "            if len(string2) > 0:\n",
    "                h2 = string2[0]\n",
    "                t2 = string2[1:]\n",
    "                h3 = h1.union(h2)\n",
    "                if h1v2.issubset(h2):\n",
    "                    h2v1 = h2.intersection(voc1)\n",
    "                    if h2v1.issubset(h1):\n",
    "                        for res in superpose(t1,t2,voc1,voc2):\n",
    "                            temp.append([h3] + res)\n",
    "        if len(string2) > 0:\n",
    "            h2 = string2[0]\n",
    "            t2 = string2[1:]\n",
    "            h2v1 = h2.intersection(voc1)\n",
    "            if len(h2v1) == 0:\n",
    "                for res in superpose(string1,t2,voc1,voc2):\n",
    "                    temp.append([h2] + res)\n",
    "        return temp\n",
    "\n",
    "def super(s1,s2):\n",
    "    return superpose(s1,s2,voc(s1),voc(s2))\n",
    "\n",
    "def voc(string): \n",
    "    if len(string) == 0:\n",
    "        return {}\n",
    "    else:\n",
    "        return string[0].union(voc(string[1:]))\n"
   ]
  },
  {
   "cell_type": "markdown",
   "metadata": {},
   "source": [
    "## To find Subset"
   ]
  },
  {
   "cell_type": "code",
   "execution_count": 2,
   "metadata": {},
   "outputs": [],
   "source": [
    "from itertools import chain, combinations\n",
    "\n",
    "def powerset(iterable):\n",
    "    s = list(iterable)\n",
    "    return chain.from_iterable(combinations(s, r) for r in range(len(s)+1))"
   ]
  },
  {
   "cell_type": "markdown",
   "metadata": {},
   "source": [
    "## To find proper subset"
   ]
  },
  {
   "cell_type": "code",
   "execution_count": 3,
   "metadata": {},
   "outputs": [],
   "source": [
    "from itertools import chain, combinations\n",
    "\n",
    "def proper_powerset(iterable):\n",
    "    s = list(iterable)\n",
    "    return chain.from_iterable(combinations(s, r) for r in range(len(s)))"
   ]
  },
  {
   "cell_type": "markdown",
   "metadata": {},
   "source": [
    "## Depadding"
   ]
  },
  {
   "cell_type": "code",
   "execution_count": 4,
   "metadata": {},
   "outputs": [],
   "source": [
    "def depad(str): \n",
    "    if len(str) < 1:\n",
    "        return str\n",
    "    else:\n",
    "        h,t = str[0],str[1:]\n",
    "        if len(h) == 0:\n",
    "            return depad(t)\n",
    "        else:\n",
    "            return [h] + depad(t)"
   ]
  },
  {
   "cell_type": "markdown",
   "metadata": {},
   "source": [
    "## A-Reduct"
   ]
  },
  {
   "cell_type": "code",
   "execution_count": 5,
   "metadata": {},
   "outputs": [],
   "source": [
    "def red(str,set): \n",
    "    if len(str) == 0:\n",
    "        return str\n",
    "    else:\n",
    "        #lts= ' '.join([str(elem) for elem in str])\n",
    "        h1 = str[0].intersection(set)\n",
    "        return [h1] + red(str[1:],set)"
   ]
  },
  {
   "cell_type": "markdown",
   "metadata": {},
   "source": [
    "## Defining gap test function"
   ]
  },
  {
   "cell_type": "code",
   "execution_count": 6,
   "metadata": {},
   "outputs": [],
   "source": [
    "def test(string1,string2):\n",
    "    print(\"Superpose of given string is: \")\n",
    "    print(\" \", super(string1,string2))\n",
    "    X = super(string1,string2)\n",
    "    temp = []\n",
    "    temp1 = []\n",
    "    for i in X:\n",
    "        #print (\"For member:\", i)\n",
    "        A = voc(i)\n",
    "        B = list(powerset(A))\n",
    "        for j in B:\n",
    "            #print (\"For subset:\",j)\n",
    "            c = red(i,j)\n",
    "            D = depad(c)\n",
    "            E = super(D,string2)\n",
    "            #print (\"superpose is\",E)\n",
    "            counter = 0\n",
    "            for k in E:\n",
    "                F = red(k,voc(string1))\n",
    "                G = depad(F) \n",
    "                #print(\"output:\",G)\n",
    "                if G == string1:\n",
    "                    counter = counter+1\n",
    "            if counter == len(E):\n",
    "                if D not in temp:\n",
    "                    temp.append(D)              \n",
    "        #print ('end')\n",
    "    for i in temp:\n",
    "        v = voc(i)\n",
    "        #print (v)\n",
    "        subset = list(proper_powerset(v))\n",
    "        counterf = 0\n",
    "        for j in subset:\n",
    "            reduct = red(i,j)\n",
    "            #print (\"reduct\",reduct)\n",
    "            depaded = depad(reduct)\n",
    "            #print (\"depaded\",depaded)\n",
    "            if depaded != string1:\n",
    "                counterf = counterf+1\n",
    "        if counterf == len(subset):\n",
    "            if i not in temp1:\n",
    "                temp1.append(i)\n",
    "    print(\"Gap of given string is:\")\n",
    "    print(temp1) "
   ]
  },
  {
   "cell_type": "code",
   "execution_count": 7,
   "metadata": {
    "scrolled": false
   },
   "outputs": [
    {
     "name": "stdout",
     "output_type": "stream",
     "text": [
      "Superpose of given string is: \n",
      "  [[{'a'}, {'b'}, {'c'}], [{'a', 'b'}, {'c'}], [{'b'}, {'a'}, {'c'}]]\n",
      "Gap of given string is:\n",
      "[[{'a'}, {'b'}], [{'a'}, {'c'}], [{'a', 'b'}]]\n"
     ]
    }
   ],
   "source": [
    "test([{'a'},{'c'}],[{'b'},{'c'}])"
   ]
  }
 ],
 "metadata": {
  "kernelspec": {
   "display_name": "Python 3",
   "language": "python",
   "name": "python3"
  },
  "language_info": {
   "codemirror_mode": {
    "name": "ipython",
    "version": 3
   },
   "file_extension": ".py",
   "mimetype": "text/x-python",
   "name": "python",
   "nbconvert_exporter": "python",
   "pygments_lexer": "ipython3",
   "version": "3.8.5"
  }
 },
 "nbformat": 4,
 "nbformat_minor": 4
}
