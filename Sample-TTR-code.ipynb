{
 "cells": [
  {
   "cell_type": "code",
   "execution_count": 1,
   "metadata": {},
   "outputs": [],
   "source": [
    "import sys"
   ]
  },
  {
   "cell_type": "code",
   "execution_count": 2,
   "metadata": {},
   "outputs": [],
   "source": [
    "sys.path.append('pyttr')\n"
   ]
  },
  {
   "cell_type": "code",
   "execution_count": 3,
   "metadata": {},
   "outputs": [],
   "source": [
    "from ttrtypes import Type,BType,PType,Pred,Possibility,RecType,Fun,\\\n",
    "                     TTRStringType,KPlusStringType,LazyObj,TTRString\n",
    "from records import Rec\n",
    "from utils import show, show_latex,print_latex,forall"
   ]
  },
  {
   "cell_type": "code",
   "execution_count": 12,
   "metadata": {},
   "outputs": [
    {
     "name": "stdout",
     "output_type": "stream",
     "text": [
      "(lives(Englishmen, Redhouse)^owns(old_gold_smoker, snails)^is_drunk(Coffee, greenhouse)^drinks(Ukraine, tea)^immediately_to_the_right(greenhouse, Ivoryhouse)^owns(old_gold_smoker, snails))+\n"
     ]
    },
    {
     "data": {
      "text/latex": [
       "\\begin{equation}(\\text{lives}(\\text{Englishmen}, \\text{Redhouse})⁀\\text{owns}(\\text{old}_{\\text{goldsmoker}}, \\text{snails})⁀\\text{is_drunk}(\\text{Coffee}, \\text{greenhouse})⁀\\text{drinks}(\\text{Ukraine}, \\text{tea})⁀\\text{immediately_to_the_right}(\\text{greenhouse}, \\text{Ivoryhouse})⁀\\text{owns}(\\text{old}_{\\text{goldsmoker}}, \\text{snails}))^+\\end{equation}"
      ],
      "text/plain": [
       "<IPython.core.display.Latex object>"
      ]
     },
     "execution_count": 12,
     "metadata": {},
     "output_type": "execute_result"
    }
   ],
   "source": [
    "Ind = BType('Ind')\n",
    "M4 = Possibility('M4')\n",
    "rule_1 = Pred('lives',[Ind,Ind])\n",
    "rule_2 = Pred('owns',[Ind,Ind])\n",
    "rule_3 = Pred('is_drunk',[Ind,Ind])\n",
    "rule_4 = Pred('drinks',[Ind,Ind])\n",
    "rule_5 = Pred('immediately_to_the_right',[Ind,Ind])\n",
    "rule_6 = Pred('owns',[Ind,Ind])\n",
    "Ind4 = BType('Ind')\n",
    "Ind4.in_poss(M4)\n",
    "Ind4.judge('Englishmen')\n",
    "Ind4.judge('Redhouse')\n",
    "Ind4.judge('Spanish')\n",
    "Ind4.judge('Coffee')\n",
    "Ind4.judge('Ukraine')\n",
    "Ind4.judge('old_gold_smoker')\n",
    "Ind4.judge('greehouse')\n",
    "Ind4.judge('Tea')\n",
    "Ind4.judge('Ivoryhouse')\n",
    "Ind4.judge('dog')\n",
    "Ind4.judge('snails')\n",
    "lives = PType(rule_1,['Englishmen','Redhouse'])\n",
    "owns = PType(rule_2,['Spanish','dog'])\n",
    "isdrunk = PType(rule_3,['Coffee','greenhouse'])\n",
    "drinks = PType(rule_4,['Ukraine','tea'])\n",
    "immediately = PType(rule_5,['greenhouse','Ivoryhouse'])\n",
    "owns = PType(rule_6,['old_gold_smoker','snails'])\n",
    "string_of_constarins = TTRStringType([lives,owns,isdrunk,drinks,immediately,owns])\n",
    "rules = KPlusStringType(string_of_constarins)\n",
    "\n",
    "print(show(rules))\n",
    "show_latex(rules)\n"
   ]
  },
  {
   "cell_type": "code",
   "execution_count": null,
   "metadata": {},
   "outputs": [],
   "source": []
  }
 ],
 "metadata": {
  "kernelspec": {
   "display_name": "Python 3",
   "language": "python",
   "name": "python3"
  },
  "language_info": {
   "codemirror_mode": {
    "name": "ipython",
    "version": 3
   },
   "file_extension": ".py",
   "mimetype": "text/x-python",
   "name": "python",
   "nbconvert_exporter": "python",
   "pygments_lexer": "ipython3",
   "version": "3.7.4"
  }
 },
 "nbformat": 4,
 "nbformat_minor": 2
}
